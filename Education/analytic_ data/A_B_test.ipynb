{
 "cells": [
  {
   "cell_type": "markdown",
   "metadata": {},
   "source": [
    "### Задание 2"
   ]
  },
  {
   "cell_type": "markdown",
   "metadata": {},
   "source": [
    "Имеются результаты A/B теста, в котором двум группам пользователей предлагались различные наборы акционных предложений. Известно, что ARPU в тестовой группе выше на 5%, чем в контрольной. При этом в контрольной группе 1928 игроков из 202103 оказались платящими, а в тестовой – 1805 из 202667.\n",
    "\n",
    "Какой набор предложений можно считать лучшим? Какие метрики стоит проанализировать для принятия правильного решения и как?"
   ]
  },
  {
   "cell_type": "markdown",
   "metadata": {},
   "source": [
    "Для того, чтобы выбрать тот или иной набор акционных предложений необходимо проверить являются ли полученные различия между группами статистически значимы. \n",
    "а. Так, первым шагом проанализируем Convertion Rate (CR) в покупку. Действительно ли доля клиентов в контрольной группе выше чем в тестовой?\n",
    "б. Далее, проверим статистически ли значимо различается средний чек на пользователя двух групп."
   ]
  },
  {
   "cell_type": "markdown",
   "metadata": {},
   "source": [
    "*user_id* - id пользователя\n",
    "\n",
    "*revenue* - доход с пользователя\n",
    "\n",
    "*testgroup* - метки [a, b] для контральной и тестовой групп "
   ]
  },
  {
   "cell_type": "code",
   "execution_count": 2,
   "metadata": {
    "scrolled": true
   },
   "outputs": [
    {
     "name": "stderr",
     "output_type": "stream",
     "text": [
      "In C:\\ProgramData\\Anaconda3\\lib\\site-packages\\matplotlib\\mpl-data\\stylelib\\_classic_test.mplstyle: \n",
      "The text.latex.preview rcparam was deprecated in Matplotlib 3.3 and will be removed two minor releases later.\n",
      "In C:\\ProgramData\\Anaconda3\\lib\\site-packages\\matplotlib\\mpl-data\\stylelib\\_classic_test.mplstyle: \n",
      "The mathtext.fallback_to_cm rcparam was deprecated in Matplotlib 3.3 and will be removed two minor releases later.\n",
      "In C:\\ProgramData\\Anaconda3\\lib\\site-packages\\matplotlib\\mpl-data\\stylelib\\_classic_test.mplstyle: Support for setting the 'mathtext.fallback_to_cm' rcParam is deprecated since 3.3 and will be removed two minor releases later; use 'mathtext.fallback : 'cm' instead.\n",
      "In C:\\ProgramData\\Anaconda3\\lib\\site-packages\\matplotlib\\mpl-data\\stylelib\\_classic_test.mplstyle: \n",
      "The validate_bool_maybe_none function was deprecated in Matplotlib 3.3 and will be removed two minor releases later.\n",
      "In C:\\ProgramData\\Anaconda3\\lib\\site-packages\\matplotlib\\mpl-data\\stylelib\\_classic_test.mplstyle: \n",
      "The savefig.jpeg_quality rcparam was deprecated in Matplotlib 3.3 and will be removed two minor releases later.\n",
      "In C:\\ProgramData\\Anaconda3\\lib\\site-packages\\matplotlib\\mpl-data\\stylelib\\_classic_test.mplstyle: \n",
      "The keymap.all_axes rcparam was deprecated in Matplotlib 3.3 and will be removed two minor releases later.\n",
      "In C:\\ProgramData\\Anaconda3\\lib\\site-packages\\matplotlib\\mpl-data\\stylelib\\_classic_test.mplstyle: \n",
      "The animation.avconv_path rcparam was deprecated in Matplotlib 3.3 and will be removed two minor releases later.\n",
      "In C:\\ProgramData\\Anaconda3\\lib\\site-packages\\matplotlib\\mpl-data\\stylelib\\_classic_test.mplstyle: \n",
      "The animation.avconv_args rcparam was deprecated in Matplotlib 3.3 and will be removed two minor releases later.\n",
      "C:\\ProgramData\\Anaconda3\\lib\\site-packages\\statsmodels\\tools\\_testing.py:19: FutureWarning: pandas.util.testing is deprecated. Use the functions in the public API at pandas.testing instead.\n",
      "  import pandas.util.testing as tm\n"
     ]
    }
   ],
   "source": [
    "import pandas as pd\n",
    "import numpy as np\n",
    "import matplotlib.pyplot as plt\n",
    "import seaborn as sns\n",
    "import plotly.express as px\n",
    "from scipy import stats\n",
    "from statsmodels.stats.proportion import proportion_confint\n",
    "from statsmodels.stats.proportion import proportions_ztest\n",
    "from tqdm.auto import tqdm\n",
    "import statsmodels.api as sm\n",
    "\n",
    "%matplotlib inline"
   ]
  },
  {
   "cell_type": "code",
   "execution_count": 3,
   "metadata": {},
   "outputs": [
    {
     "data": {
      "text/html": [
       "<div>\n",
       "<style scoped>\n",
       "    .dataframe tbody tr th:only-of-type {\n",
       "        vertical-align: middle;\n",
       "    }\n",
       "\n",
       "    .dataframe tbody tr th {\n",
       "        vertical-align: top;\n",
       "    }\n",
       "\n",
       "    .dataframe thead th {\n",
       "        text-align: right;\n",
       "    }\n",
       "</style>\n",
       "<table border=\"1\" class=\"dataframe\">\n",
       "  <thead>\n",
       "    <tr style=\"text-align: right;\">\n",
       "      <th></th>\n",
       "      <th>user_id</th>\n",
       "      <th>revenue</th>\n",
       "      <th>testgroup</th>\n",
       "    </tr>\n",
       "  </thead>\n",
       "  <tbody>\n",
       "    <tr>\n",
       "      <th>0</th>\n",
       "      <td>1</td>\n",
       "      <td>0</td>\n",
       "      <td>b</td>\n",
       "    </tr>\n",
       "    <tr>\n",
       "      <th>1</th>\n",
       "      <td>2</td>\n",
       "      <td>0</td>\n",
       "      <td>a</td>\n",
       "    </tr>\n",
       "    <tr>\n",
       "      <th>2</th>\n",
       "      <td>3</td>\n",
       "      <td>0</td>\n",
       "      <td>a</td>\n",
       "    </tr>\n",
       "    <tr>\n",
       "      <th>3</th>\n",
       "      <td>4</td>\n",
       "      <td>0</td>\n",
       "      <td>b</td>\n",
       "    </tr>\n",
       "    <tr>\n",
       "      <th>4</th>\n",
       "      <td>5</td>\n",
       "      <td>0</td>\n",
       "      <td>b</td>\n",
       "    </tr>\n",
       "  </tbody>\n",
       "</table>\n",
       "</div>"
      ],
      "text/plain": [
       "   user_id  revenue testgroup\n",
       "0        1        0         b\n",
       "1        2        0         a\n",
       "2        3        0         a\n",
       "3        4        0         b\n",
       "4        5        0         b"
      ]
     },
     "execution_count": 3,
     "metadata": {},
     "output_type": "execute_result"
    }
   ],
   "source": [
    "data = pd.read_csv('https://stepik.org/media/attachments/lesson/409318/problem2.csv', sep=';')\n",
    "data.head()"
   ]
  },
  {
   "cell_type": "code",
   "execution_count": 4,
   "metadata": {},
   "outputs": [
    {
     "name": "stdout",
     "output_type": "stream",
     "text": [
      "***___******___******___******___******___***\n",
      "\n",
      "<class 'pandas.core.frame.DataFrame'>\n",
      "RangeIndex: 404770 entries, 0 to 404769\n",
      "Data columns (total 3 columns):\n",
      " #   Column     Non-Null Count   Dtype \n",
      "---  ------     --------------   ----- \n",
      " 0   user_id    404770 non-null  int64 \n",
      " 1   revenue    404770 non-null  int64 \n",
      " 2   testgroup  404770 non-null  object\n",
      "dtypes: int64(2), object(1)\n",
      "memory usage: 9.3+ MB\n",
      "None\n",
      "***___******___******___******___******___***\n",
      "\n",
      "Доля пользователей каждой группы\n",
      "b    0.500697\n",
      "a    0.499303\n",
      "Name: testgroup, dtype: float64\n",
      "***___******___******___******___******___***\n",
      "\n",
      "Присутсвует ли один и тот же пользователь сразу в двух группах?\n",
      "False    404770\n",
      "Name: user_id, dtype: int64\n"
     ]
    }
   ],
   "source": [
    "a = \"***___***\"\n",
    "print(a*5+'\\n')\n",
    "print(data.info())\n",
    "print(a*5+'\\n')\n",
    "print('Доля пользователей каждой группы')\n",
    "print(data['testgroup'].value_counts(normalize=True))\n",
    "print(a*5+'\\n')\n",
    "print('Присутсвует ли один и тот же пользователь сразу в двух группах?')\n",
    "print(data['user_id'].duplicated().value_counts())"
   ]
  },
  {
   "cell_type": "code",
   "execution_count": 21,
   "metadata": {},
   "outputs": [],
   "source": [
    "#т.к. в каждой из групп находятся только уникальные пользователи можем использовать тесты для независимых выборок"
   ]
  },
  {
   "cell_type": "code",
   "execution_count": 5,
   "metadata": {},
   "outputs": [
    {
     "name": "stdout",
     "output_type": "stream",
     "text": [
      "True\n",
      "True\n"
     ]
    }
   ],
   "source": [
    "#Для целей дальнейших исследований добавим в наш датасет колонку 'purchase',\n",
    "#в которой будет записан 0 для пользователей которые не совершали целевого действия ( т.е. их 'revenue' == 0)\n",
    "#и 1 для платящих пользователей\n",
    "data['purchase'] = [0 if x==0 else 1 for x in data['revenue']]\n",
    "\n",
    "#Проверим, правильность  заполнения поля 'purchase'\n",
    "print(data.query('revenue == 0')['revenue'].count() == data.query('purchase == 0')['purchase'].count())\n",
    "print(data.query('revenue != 0')['revenue'].count() == data.query('purchase != 0')['purchase'].count())"
   ]
  },
  {
   "cell_type": "code",
   "execution_count": 6,
   "metadata": {},
   "outputs": [
    {
     "data": {
      "text/html": [
       "<div>\n",
       "<style scoped>\n",
       "    .dataframe tbody tr th:only-of-type {\n",
       "        vertical-align: middle;\n",
       "    }\n",
       "\n",
       "    .dataframe tbody tr th {\n",
       "        vertical-align: top;\n",
       "    }\n",
       "\n",
       "    .dataframe thead th {\n",
       "        text-align: right;\n",
       "    }\n",
       "</style>\n",
       "<table border=\"1\" class=\"dataframe\">\n",
       "  <thead>\n",
       "    <tr style=\"text-align: right;\">\n",
       "      <th>purchase</th>\n",
       "      <th>0</th>\n",
       "      <th>1</th>\n",
       "      <th>CR</th>\n",
       "    </tr>\n",
       "    <tr>\n",
       "      <th>testgroup</th>\n",
       "      <th></th>\n",
       "      <th></th>\n",
       "      <th></th>\n",
       "    </tr>\n",
       "  </thead>\n",
       "  <tbody>\n",
       "    <tr>\n",
       "      <th>a</th>\n",
       "      <td>200175</td>\n",
       "      <td>1928</td>\n",
       "      <td>0.95</td>\n",
       "    </tr>\n",
       "    <tr>\n",
       "      <th>b</th>\n",
       "      <td>200862</td>\n",
       "      <td>1805</td>\n",
       "      <td>0.89</td>\n",
       "    </tr>\n",
       "  </tbody>\n",
       "</table>\n",
       "</div>"
      ],
      "text/plain": [
       "purchase        0     1    CR\n",
       "testgroup                    \n",
       "a          200175  1928  0.95\n",
       "b          200862  1805  0.89"
      ]
     },
     "execution_count": 6,
     "metadata": {},
     "output_type": "execute_result"
    }
   ],
   "source": [
    "data_prop = data.groupby(['testgroup', 'purchase'], as_index=False).agg({'revenue':'count'})\\\n",
    "              .pivot(index='testgroup', columns='purchase', values='revenue')\n",
    "data_prop['CR'] = round(data_prop[1]/(data_prop[0]+data_prop[1])*100, 2)\n",
    "data_prop"
   ]
  },
  {
   "cell_type": "markdown",
   "metadata": {},
   "source": [
    "Тест 1: Статистически ли значимо различаются доли людей совершивших целевое действие (покупку) в контрольной и тестовой группах?\n",
    "\n",
    "Для проверки воспользуемся z-критерием "
   ]
  },
  {
   "cell_type": "code",
   "execution_count": 7,
   "metadata": {},
   "outputs": [
    {
     "name": "stdout",
     "output_type": "stream",
     "text": [
      "Confidence interval for group a:(0.009115903398184955, 0.009963476917792542)\n",
      "Confidence interval for group b:(0.00849719982771449, 0.009315270875458697)\n"
     ]
    }
   ],
   "source": [
    "#Интервальная оценка долей\n",
    "conf_interval_a = proportion_confint(sum(data.query('testgroup == \"a\"')['purchase']),\n",
    "                                     data.query('testgroup == \"a\"')['purchase'].count(), \n",
    "                                     method='normal')\n",
    "conf_interval_b = proportion_confint(sum(data.query('testgroup == \"b\"')['purchase']),\n",
    "                                     data.query('testgroup == \"b\"')['purchase'].count(), \n",
    "                                     method='normal')\n",
    "\n",
    "print(\"Confidence interval for group a:{}\".format(conf_interval_a))\n",
    "print(\"Confidence interval for group b:{}\".format(conf_interval_b))"
   ]
  },
  {
   "cell_type": "code",
   "execution_count": 26,
   "metadata": {},
   "outputs": [],
   "source": [
    "#Интервальная оценка не дала однозначного ответа какая акция показала лучший результат, т.к. 95% доверительные интервалы двух групп пересекаются"
   ]
  },
  {
   "cell_type": "code",
   "execution_count": 8,
   "metadata": {},
   "outputs": [
    {
     "name": "stdout",
     "output_type": "stream",
     "text": [
      "z_stat: 2.108, p_value: 0.035\n"
     ]
    }
   ],
   "source": [
    "#z-test на равенство пропорций 2-ух групп\n",
    "#H0: proportion_a = proportion_b\n",
    "#H1: proportion_a != proportion_b\n",
    "sample_a_success = data.query('testgroup == \"a\"')['purchase'].sum()\n",
    "sample_b_success = data.query('testgroup == \"b\"')['purchase'].sum()\n",
    "sample_a_size = data.query('testgroup == \"a\"')['purchase'].count()\n",
    "sample_b_size = data.query('testgroup == \"b\"')['purchase'].count()\n",
    "\n",
    "stat, p_value = proportions_ztest(count=[sample_a_success, sample_b_success], nobs=[sample_a_size, sample_b_size], alternative='two-sided')\n",
    "print('z_stat: %0.3f, p_value: %0.3f' % (stat, p_value))"
   ]
  },
  {
   "cell_type": "markdown",
   "metadata": {},
   "source": [
    "Результат теста P-value < 0.05. Результат стастически значим, исходя из чего нулевая гипотеза о равенстве пропорций отвергается"
   ]
  },
  {
   "cell_type": "code",
   "execution_count": 9,
   "metadata": {},
   "outputs": [
    {
     "name": "stdout",
     "output_type": "stream",
     "text": [
      "z_stat: 2.108, p_value: 0.018\n"
     ]
    }
   ],
   "source": [
    "#z-test на равенство пропорций 2-ух групп\n",
    "#From proportions_ztest discription: In the two sample test, smaller means that the alternative hypothesis is ``p1 < p2`` and\n",
    "    #larger means ``p1 > p2`` where ``p1`` is the proportion of the first\n",
    "    #sample and ``p2`` of the second one.\n",
    "#H0: proportion_a !> proportion_b\n",
    "#H1: proportion_a > proportion_b\n",
    "sample_a_success = data.query('testgroup == \"a\"')['purchase'].sum()\n",
    "sample_b_success = data.query('testgroup == \"b\"')['purchase'].sum()\n",
    "sample_a_size = data.query('testgroup == \"a\"')['purchase'].count()\n",
    "sample_b_size = data.query('testgroup == \"b\"')['purchase'].count()\n",
    "\n",
    "stat, p_value = proportions_ztest(count=[sample_a_success, sample_b_success], nobs=[sample_a_size, sample_b_size], alternative='larger')\n",
    "print('z_stat: %0.3f, p_value: %0.3f' % (stat, p_value))"
   ]
  },
  {
   "cell_type": "markdown",
   "metadata": {},
   "source": [
    "Результат одностороннего z-test показал статистически значимый p-value < 0.05, следовательно гипотеза о том, что зачение пропорции группы 'а' не больше группы 'b' отвергается. Альтернативная гипотеза не отвергается, исходя из чего можно сделать вывод о том, что в группе 'а' (контроль) пропорция пользователей совершивших покупку статистически значимо больше. \n",
    "(0.95% - 0.89%)/0.89% = 0.067% Коэффициент конверсии в покупку в группе 'а'  на 0.067% выше, чем коэффициент конверсии в группе 'b'. Этот результат — следствие более привлекательного для пользователей предложения, а не случайность. Уровень доверия 95%."
   ]
  },
  {
   "cell_type": "markdown",
   "metadata": {},
   "source": [
    "При этом известно, что ARPU в тестовой группе выше на 5%, чем в контрольной. Можно сделать предположение о том, что несмотря на то, что конверсия в клиента в контрольной группе выше, в тестовой группе клиенты потенциально тратят больше. "
   ]
  },
  {
   "cell_type": "markdown",
   "metadata": {},
   "source": [
    "Тест 2: Статистически ли значимы различия между средним чеком пользователей (ARPU) в контрольной и тестовой групп?"
   ]
  },
  {
   "cell_type": "code",
   "execution_count": 10,
   "metadata": {},
   "outputs": [
    {
     "data": {
      "text/html": [
       "<div>\n",
       "<style scoped>\n",
       "    .dataframe tbody tr th:only-of-type {\n",
       "        vertical-align: middle;\n",
       "    }\n",
       "\n",
       "    .dataframe tbody tr th {\n",
       "        vertical-align: top;\n",
       "    }\n",
       "\n",
       "    .dataframe thead th {\n",
       "        text-align: right;\n",
       "    }\n",
       "</style>\n",
       "<table border=\"1\" class=\"dataframe\">\n",
       "  <thead>\n",
       "    <tr style=\"text-align: right;\">\n",
       "      <th></th>\n",
       "      <th>testgroup</th>\n",
       "      <th>revenue</th>\n",
       "      <th>purchase</th>\n",
       "      <th>ARPU</th>\n",
       "    </tr>\n",
       "  </thead>\n",
       "  <tbody>\n",
       "    <tr>\n",
       "      <th>0</th>\n",
       "      <td>a</td>\n",
       "      <td>5136189</td>\n",
       "      <td>202103</td>\n",
       "      <td>25.413720</td>\n",
       "    </tr>\n",
       "    <tr>\n",
       "      <th>1</th>\n",
       "      <td>b</td>\n",
       "      <td>5421603</td>\n",
       "      <td>202667</td>\n",
       "      <td>26.751287</td>\n",
       "    </tr>\n",
       "  </tbody>\n",
       "</table>\n",
       "</div>"
      ],
      "text/plain": [
       "  testgroup  revenue  purchase       ARPU\n",
       "0         a  5136189    202103  25.413720\n",
       "1         b  5421603    202667  26.751287"
      ]
     },
     "execution_count": 10,
     "metadata": {},
     "output_type": "execute_result"
    }
   ],
   "source": [
    "a = data.groupby('testgroup', as_index=False).agg({'revenue':'sum', 'purchase':'count'})\n",
    "a['ARPU'] = a.revenue / a.purchase\n",
    "a"
   ]
  },
  {
   "cell_type": "code",
   "execution_count": null,
   "metadata": {},
   "outputs": [],
   "source": [
    "(26.75 - 25.41)/25.41 = 0.05. В группе 'b' ARPU выше чем в группе 'а' на 5%."
   ]
  },
  {
   "cell_type": "code",
   "execution_count": 11,
   "metadata": {},
   "outputs": [
    {
     "data": {
      "text/html": [
       "<div>\n",
       "<style scoped>\n",
       "    .dataframe tbody tr th:only-of-type {\n",
       "        vertical-align: middle;\n",
       "    }\n",
       "\n",
       "    .dataframe tbody tr th {\n",
       "        vertical-align: top;\n",
       "    }\n",
       "\n",
       "    .dataframe thead th {\n",
       "        text-align: right;\n",
       "    }\n",
       "</style>\n",
       "<table border=\"1\" class=\"dataframe\">\n",
       "  <thead>\n",
       "    <tr style=\"text-align: right;\">\n",
       "      <th></th>\n",
       "      <th>count</th>\n",
       "      <th>mean</th>\n",
       "      <th>std</th>\n",
       "      <th>min</th>\n",
       "      <th>25%</th>\n",
       "      <th>50%</th>\n",
       "      <th>75%</th>\n",
       "      <th>max</th>\n",
       "    </tr>\n",
       "    <tr>\n",
       "      <th>testgroup</th>\n",
       "      <th></th>\n",
       "      <th></th>\n",
       "      <th></th>\n",
       "      <th></th>\n",
       "      <th></th>\n",
       "      <th></th>\n",
       "      <th></th>\n",
       "      <th></th>\n",
       "    </tr>\n",
       "  </thead>\n",
       "  <tbody>\n",
       "    <tr>\n",
       "      <th>a</th>\n",
       "      <td>1928.0</td>\n",
       "      <td>2663.998444</td>\n",
       "      <td>9049.039763</td>\n",
       "      <td>200.0</td>\n",
       "      <td>257.0</td>\n",
       "      <td>311.0</td>\n",
       "      <td>361.0</td>\n",
       "      <td>37433.0</td>\n",
       "    </tr>\n",
       "    <tr>\n",
       "      <th>b</th>\n",
       "      <td>1805.0</td>\n",
       "      <td>3003.658172</td>\n",
       "      <td>572.619709</td>\n",
       "      <td>2000.0</td>\n",
       "      <td>2513.0</td>\n",
       "      <td>3022.0</td>\n",
       "      <td>3478.0</td>\n",
       "      <td>4000.0</td>\n",
       "    </tr>\n",
       "  </tbody>\n",
       "</table>\n",
       "</div>"
      ],
      "text/plain": [
       "            count         mean          std     min     25%     50%     75%  \\\n",
       "testgroup                                                                     \n",
       "a          1928.0  2663.998444  9049.039763   200.0   257.0   311.0   361.0   \n",
       "b          1805.0  3003.658172   572.619709  2000.0  2513.0  3022.0  3478.0   \n",
       "\n",
       "               max  \n",
       "testgroup           \n",
       "a          37433.0  \n",
       "b           4000.0  "
      ]
     },
     "execution_count": 11,
     "metadata": {},
     "output_type": "execute_result"
    }
   ],
   "source": [
    "data.query('revenue != 0').groupby('testgroup')['revenue'].describe()"
   ]
  },
  {
   "cell_type": "code",
   "execution_count": 12,
   "metadata": {},
   "outputs": [
    {
     "data": {
      "text/plain": [
       "Text(0.5, 1.0, 'Treatment group distribution')"
      ]
     },
     "execution_count": 12,
     "metadata": {},
     "output_type": "execute_result"
    },
    {
     "data": {
      "image/png": "[encoded data removed]",
      "text/plain": [
       "<Figure size 1080x360 with 2 Axes>"
      ]
     },
     "metadata": {
      "needs_background": "light"
     },
     "output_type": "display_data"
    }
   ],
   "source": [
    "fig, axes = plt.subplots(1, 2, figsize=(15, 5), sharey=False)\n",
    "\n",
    "#распределние доходов группы A (контрольной)\n",
    "sns.distplot(data.query('testgroup == \"a\" & revenue != 0')['revenue'], ax=axes[0])\n",
    "axes[0].set_title(\"Control group distribution\")\n",
    "\n",
    "#распределние доходов группы B (тестовой)\n",
    "sns.distplot(data.query('testgroup == \"b\" & revenue != 0')['revenue'], ax=axes[1])\n",
    "axes[1].set_title(\"Treatment group distribution\")"
   ]
  },
  {
   "cell_type": "code",
   "execution_count": 13,
   "metadata": {},
   "outputs": [
    {
     "data": {
      "text/plain": [
       "<AxesSubplot:xlabel='testgroup', ylabel='revenue'>"
      ]
     },
     "execution_count": 13,
     "metadata": {},
     "output_type": "execute_result"
    },
    {
     "data": {
      "image/png": "[encoded data removed]",
      "text/plain": [
       "<Figure size 720x360 with 1 Axes>"
      ]
     },
     "metadata": {
      "needs_background": "light"
     },
     "output_type": "display_data"
    }
   ],
   "source": [
    "plt.figure(figsize=(10,5))\n",
    "sns.boxplot(x='testgroup', y='revenue', data=data.query('revenue != 0'))"
   ]
  },
  {
   "cell_type": "markdown",
   "metadata": {},
   "source": [
    "В группе А графика boxplot большие значения покупок представлены как выбросы. Но удалить их мы не можем, поскольку такие (большие) значение возникают не единожды и следовательно мы сможем потерять большое количество наблюдений, что сможет сильно изменить результат эксперимента."
   ]
  },
  {
   "cell_type": "code",
   "execution_count": 110,
   "metadata": {},
   "outputs": [],
   "source": [
    "#fig_2, axes_2 = plt.subplots(1, 2, figsize=(15, 5), sharey=False)\n",
    "\n",
    "#sm.qqplot(data.query('testgroup == \"a\" & revenue != 0')['revenue'], ax=axes_2[0])\n",
    "#sm.qqplot(data.query('testgroup == \"b\" & revenue != 0')['revenue'], ax=axes_2[1])\n",
    "#plt.show()"
   ]
  },
  {
   "cell_type": "markdown",
   "metadata": {},
   "source": [
    "Глядя на распределения двух выборок можно заметить, что клиенты контрольной группы имеют две крайности: много пользователей тратят мало и в то же время есть те кто тратят очень много, значительно больше чем в тестовой. Что касаемо тестовой группы, то доход распределен практичести равномерно между 2000-4000 у.е."
   ]
  },
  {
   "cell_type": "markdown",
   "metadata": {},
   "source": [
    "Проведем оценку нормальности распределений двух групп с помощью теста Шапиро-Уилка.\n",
    "\n",
    "H0 - выборка распределена нормально\n",
    "\n",
    "H1 - распределение отличается от нормального"
   ]
  },
  {
   "cell_type": "code",
   "execution_count": 14,
   "metadata": {},
   "outputs": [
    {
     "name": "stdout",
     "output_type": "stream",
     "text": [
      "Результат тест Шапиро-Уилка для распрделения контрольной группы: (0.2667924761772156, 0.0)\n",
      "Результат тест Шапиро-Уилка для распрделения тестовой группы   : (0.9583123922348022, 2.491345674771425e-22)\n"
     ]
    }
   ],
   "source": [
    "#Проверка распределения выборок на нормальность\n",
    "a = stats.shapiro(data.query('testgroup == \"a\" & revenue != 0')['revenue'])\n",
    "b = stats.shapiro(data.query('testgroup == \"b\" & revenue != 0')['revenue'])\n",
    "\n",
    "print(\"Результат тест Шапиро-Уилка для распрделения контрольной группы: {}\".format(a))\n",
    "print(\"Результат тест Шапиро-Уилка для распрделения тестовой группы   : {}\".format(b))"
   ]
  },
  {
   "cell_type": "markdown",
   "metadata": {},
   "source": [
    "Тест Шапиро показал значимый результат для двух групп (p-value < 0.05), следовательно гипотеза о нормальности распределений отвергается.\n",
    "Это значит, что для сравнения этих выборок мы можем воспользоваться либо непарметрическим методом оценки центральной тенденции, либо методом Bootstrap."
   ]
  },
  {
   "cell_type": "markdown",
   "metadata": {},
   "source": [
    "В данном случае нам необходимо оценить метрику ARPU контрольной и тестовой групп. Формула ARPU выглядит как: Revenue/ Users. Чтобы мы смогли верно интерпретировать результаты теста, для оценки среднего дохода будем использовать метод Bootstrap, который за счет того, что многократно считает среднее с возвращением, позволяет сконцентрировать данные выборки вокруг своего истинного среднего c отклонением, несмотря на то, что данные выборок не распределены нормально.\n",
    "В качестве статистики будет рассчитываться среднее дохода на пользователя, поскольку данная формула (Revenue/n) отражает нашу исследуемую метрику ARPU."
   ]
  },
  {
   "cell_type": "code",
   "execution_count": 17,
   "metadata": {},
   "outputs": [],
   "source": [
    "#применим метод Bootstrap\n",
    "# h0 - ARPU(a) = ARPU(b)\n",
    "# h1 - ARPU(a) != ARPU(b)\n",
    "# Объявим функцию, которая позволит проверять гипотезы с помощью бутстрапа\n",
    "def get_bootstrap(\n",
    "    data_column_1, # числовые значения первой выборки\n",
    "    data_column_2, # числовые значения второй выборки\n",
    "    boot_it = 1000, # количество бутстрэп-подвыборок\n",
    "    statistic = np.mean, # интересующая нас статистика\n",
    "    bootstrap_conf_level = 0.95 # уровень значимости\n",
    "):\n",
    "    boot_len = max([len(data_column_1), len(data_column_2)])\n",
    "    boot_data = []\n",
    "    for i in tqdm(range(boot_it)): # извлекаем подвыборки\n",
    "        samples_1 = data_column_1.sample(\n",
    "            boot_len, \n",
    "            replace = True # параметр возвращения\n",
    "        ).values\n",
    "        \n",
    "        samples_2 = data_column_2.sample(\n",
    "            boot_len, \n",
    "            replace = True\n",
    "        ).values\n",
    "        \n",
    "        boot_data.append(statistic(samples_1 - samples_2)) # mean() - применяем статистику\n",
    "        \n",
    "    pd_boot_data = pd.DataFrame(boot_data)\n",
    "        \n",
    "    left_quant = (1 - bootstrap_conf_level)/2\n",
    "    right_quant = 1 - (1 - bootstrap_conf_level) / 2\n",
    "    ci = pd_boot_data.quantile([left_quant, right_quant])\n",
    "        \n",
    "    p_1 = stats.norm.cdf(\n",
    "        x = 0, \n",
    "        loc = np.mean(boot_data), \n",
    "        scale = np.std(boot_data)\n",
    "    )\n",
    "    p_2 = stats.norm.cdf(\n",
    "        x = 0, \n",
    "        loc = -np.mean(boot_data), \n",
    "        scale = np.std(boot_data)\n",
    "    )\n",
    "    p_value = min(p_1, p_2) * 2\n",
    "        \n",
    "    # Визуализация\n",
    "    plt.hist(pd_boot_data[0], bins = 50)\n",
    "    \n",
    "    plt.style.use('ggplot')\n",
    "    plt.vlines(ci,ymin=0,ymax=50,linestyle='--')\n",
    "    plt.xlabel('boot_data')\n",
    "    plt.ylabel('frequency')\n",
    "    plt.title(\"Histogram of boot_data\")\n",
    "    plt.show()\n",
    "       \n",
    "    return {\"boot_data\": boot_data, \n",
    "            \"ci\": ci, \n",
    "            \"p_value\": p_value}"
   ]
  },
  {
   "cell_type": "code",
   "execution_count": 18,
   "metadata": {},
   "outputs": [
    {
     "data": {
      "application/vnd.jupyter.widget-view+json": {
       "model_id": "481dd236c964447895cf0d5247eac83c",
       "version_major": 2,
       "version_minor": 0
      },
      "text/plain": [
       "HBox(children=(IntProgress(value=0, max=2000), HTML(value='')))"
      ]
     },
     "metadata": {},
     "output_type": "display_data"
    },
    {
     "name": "stdout",
     "output_type": "stream",
     "text": [
      "\n"
     ]
    },
    {
     "data": {
      "image/png": "[encoded data removed]",
      "text/plain": [
       "<Figure size 432x288 with 1 Axes>"
      ]
     },
     "metadata": {
      "needs_background": "light"
     },
     "output_type": "display_data"
    }
   ],
   "source": [
    "booted_data = get_bootstrap(data.query('testgroup == \"a\"')['revenue'], data.query('testgroup == \"b\"')['revenue'], boot_it = 2000) # в результате хранится разница двух распределений, ДИ и pvalue"
   ]
  },
  {
   "cell_type": "code",
   "execution_count": 19,
   "metadata": {},
   "outputs": [
    {
     "name": "stdout",
     "output_type": "stream",
     "text": [
      "P-value for Bootstrap median: 0.5477050905656762\n",
      "Confidence interval:               0\n",
      "0.025 -5.660437\n",
      "0.975  3.064052\n"
     ]
    }
   ],
   "source": [
    "print(\"P-value for Bootstrap median: {}\".format(booted_data[\"p_value\"])) \n",
    "print(\"Confidence interval: {}\".format(booted_data[\"ci\"]))"
   ]
  },
  {
   "cell_type": "markdown",
   "metadata": {},
   "source": [
    "По результатам теста p-value показал статистически не значимый результат т.к. > 0.05, так же стоит заметить что 0 входит в доверительный интервал, что указыает на отсутсвие оснований отвергнуть нулевую гипотезу о равенстве ARPU."
   ]
  },
  {
   "cell_type": "code",
   "execution_count": 22,
   "metadata": {},
   "outputs": [
    {
     "data": {
      "application/vnd.jupyter.widget-view+json": {
       "model_id": "5ac23b2fe0c74c33996bd78246365b2d",
       "version_major": 2,
       "version_minor": 0
      },
      "text/plain": [
       "HBox(children=(IntProgress(value=0, max=2000), HTML(value='')))"
      ]
     },
     "metadata": {},
     "output_type": "display_data"
    },
    {
     "name": "stdout",
     "output_type": "stream",
     "text": [
      "\n"
     ]
    },
    {
     "data": {
      "image/png": "[encoded data removed]",
      "text/plain": [
       "<Figure size 432x288 with 1 Axes>"
      ]
     },
     "metadata": {},
     "output_type": "display_data"
    }
   ],
   "source": [
    "#Проанализируем есть ли статистически значимые различия в  среднем доходе на платящего пользователя (ARPPU) \n",
    "#H0: ARPPU(a) = ARPPU(b)\n",
    "#H1: ARPPU(a) != ARPPU(b)\n",
    "booted_data_arppu = get_bootstrap(data.query('testgroup == \"a\" & revenue != 0')['revenue'], data.query('testgroup == \"b\" & revenue != 0')['revenue'], boot_it = 2000)"
   ]
  },
  {
   "cell_type": "code",
   "execution_count": 23,
   "metadata": {},
   "outputs": [
    {
     "name": "stdout",
     "output_type": "stream",
     "text": [
      "P-value for Bootstrap median: 0.09782006364485633\n",
      "Confidence interval:                 0\n",
      "0.025 -732.854292\n",
      "0.975   69.380472\n"
     ]
    }
   ],
   "source": [
    "print(\"P-value for Bootstrap median: {}\".format(booted_data_arppu[\"p_value\"])) \n",
    "print(\"Confidence interval: {}\".format(booted_data_arppu[\"ci\"]))"
   ]
  },
  {
   "cell_type": "markdown",
   "metadata": {},
   "source": [
    "По результатам теста p-value показал статистически не значимый результат т.к. > 0.05, так же стоит заметить что 0 входит в доверительный интервал, что указыает на отсутсвие оснований отвергнуть нулевую гипотезу о равенстве ARPPU."
   ]
  },
  {
   "cell_type": "code",
   "execution_count": 24,
   "metadata": {},
   "outputs": [
    {
     "name": "stdout",
     "output_type": "stream",
     "text": [
      "Kruskal-Whallis result: 0.06269700166262313\n"
     ]
    }
   ],
   "source": [
    "#Непараметрический критерий Крускала-Уоллиса\n",
    "#H0: median(a) = median(b)\n",
    "#H1: median(a) != median(b)\n",
    "#u, p = stats.kruskal(data.query('testgroup == \"a\"')['revenue'], data.query('testgroup == \"b\"')['revenue'])\n",
    "#print(\"Kruskal-Whallis result: {}\".format(p))\n",
    "                                                                                               "
   ]
  },
  {
   "cell_type": "code",
   "execution_count": null,
   "metadata": {},
   "outputs": [],
   "source": [
    "#Результат проведенного тест с применением критерия Крускала-Уоллиса показал не значимый результат: p-value > 0.05. Следовательно нулевая гипотеза не отвергается."
   ]
  },
  {
   "cell_type": "markdown",
   "metadata": {},
   "source": [
    "##### Вывод: \n",
    "Cложно сделать однозначный выбор какой из наборов акций оказался лучше, потому что хоть и в тестовой группе процент пользователей совершивших покупку выше, раница в среднем чеке на пользователя (и на платящего пользователя) статистически значимо не отличается, и прослеживаются значительные отличия в характере платящих пользователей (в тестовой группе присуствует группа клиентов готовых платить значительно больше чем в контрольной, и именно эта часть покупателей невилирует ту разницу, которая возникает можду группами).\n",
    "\n",
    "В данном случае будет целесообразно проверить корректность работы системы сплитования (возможно она отдает предпочтение одной группе (объединенным по какому то признаку, это могут быть пользователи какой-либо из операционных систем или жители определенных городов или районов) пользователей в тествовой группе, но не показывает акционные предложение такой же группе в контрольной).\n",
    "\n",
    "Если же при проверке системы сплитования ошибок не обнаружится, то чтобы сделать однозначный выбор стоит отталкиваться от целей компании: можно взять во внимание стастически значимые различия в конверсии в клиента (CR) в тестовой группе, что сигнализирует о том, что в этой группе большее количество пользователей попробовали воспользоваться нашим сервисом и потенциально больше пользователей может вернуться обратно и воспользоваться им еще раз."
   ]
  },
  {
   "cell_type": "code",
   "execution_count": null,
   "metadata": {},
   "outputs": [],
   "source": []
  }
 ],
 "metadata": {
  "kernelspec": {
   "display_name": "Python 3",
   "language": "python",
   "name": "python3"
  },
  "language_info": {
   "codemirror_mode": {
    "name": "ipython",
    "version": 3
   },
   "file_extension": ".py",
   "mimetype": "text/x-python",
   "name": "python",
   "nbconvert_exporter": "python",
   "pygments_lexer": "ipython3",
   "version": "3.7.4"
  }
 },
 "nbformat": 4,
 "nbformat_minor": 2
}
